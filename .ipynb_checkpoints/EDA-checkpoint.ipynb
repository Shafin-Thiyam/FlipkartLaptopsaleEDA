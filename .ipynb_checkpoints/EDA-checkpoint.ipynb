{
 "cells": [
  {
   "cell_type": "code",
   "execution_count": 1,
   "metadata": {},
   "outputs": [],
   "source": [
    "from bs4 import BeautifulSoup as soup\n",
    "from urllib.request import urlopen as uReq"
   ]
  },
  {
   "cell_type": "code",
   "execution_count": 2,
   "metadata": {},
   "outputs": [],
   "source": [
    "my_url ='https://www.flipkart.com/search?q=laptop&sid=6bo%2Cb5g&as=on&as-show=on&otracker=AS_QueryStore_OrganicAutoSuggest_0_3_na_na_pr&otracker1=AS_QueryStore_OrganicAutoSuggest_0_3_na_na_pr&as-pos=0&as-type=RECENT&suggestionId=laptop&requestId=3af7f76b-cfdc-490d-a3cb-3dec368ee49d&as-backfill=on&page=1'"
   ]
  },
  {
   "cell_type": "code",
   "execution_count": 3,
   "metadata": {},
   "outputs": [],
   "source": [
    "uClient = uReq(my_url)"
   ]
  },
  {
   "cell_type": "code",
   "execution_count": 4,
   "metadata": {},
   "outputs": [],
   "source": [
    "page_html=uClient.read()"
   ]
  },
  {
   "cell_type": "code",
   "execution_count": 5,
   "metadata": {},
   "outputs": [],
   "source": [
    "uClient.close()"
   ]
  },
  {
   "cell_type": "code",
   "execution_count": 6,
   "metadata": {},
   "outputs": [],
   "source": [
    "page_soup=soup(page_html,\"html.parser\")"
   ]
  },
  {
   "cell_type": "code",
   "execution_count": 7,
   "metadata": {},
   "outputs": [],
   "source": [
    "prod_details=page_soup.findAll(\"div\",{\"class\": \"_1-2Iqu row\"})#t-0M7P _2doH3V  col_2-gKeQ"
   ]
  },
  {
   "cell_type": "code",
   "execution_count": 67,
   "metadata": {},
   "outputs": [],
   "source": [
    "ul_specs=prod_details[1].findAll(\"ul\",{\"class\":\"vFw0gD\"})"
   ]
  },
  {
   "cell_type": "code",
   "execution_count": 73,
   "metadata": {},
   "outputs": [
    {
     "data": {
      "text/plain": [
       "[<li class=\"tVe95H\">Fast Performance (Upto 30% Faster than HDD Storage)</li>,\n",
       " <li class=\"tVe95H\">Upto 75% Reduction in System Boot Up Time</li>,\n",
       " <li class=\"tVe95H\">More Energy Efficient</li>,\n",
       " <li class=\"tVe95H\">No Vibrations or Noise</li>,\n",
       " <li class=\"tVe95H\">AMD APU Dual Core A6 Processor</li>,\n",
       " <li class=\"tVe95H\">4 GB DDR4 RAM</li>,\n",
       " <li class=\"tVe95H\">64 bit Windows 10 Operating System</li>,\n",
       " <li class=\"tVe95H\">256 GB SSD</li>,\n",
       " <li class=\"tVe95H\">35.56 cm (14 inch) Display</li>,\n",
       " <li class=\"tVe95H\">1 Year On-site Warranty</li>]"
      ]
     },
     "execution_count": 73,
     "metadata": {},
     "output_type": "execute_result"
    }
   ],
   "source": [
    "ul_specs[0].findAll(\"li\",{\"class\":\"tVe95H\"})"
   ]
  },
  {
   "cell_type": "code",
   "execution_count": 65,
   "metadata": {},
   "outputs": [],
   "source": [
    "specs=prod_details[1].findAll(\"li\",{\"class\":\"tVe95H\"})"
   ]
  },
  {
   "cell_type": "code",
   "execution_count": 66,
   "metadata": {},
   "outputs": [
    {
     "data": {
      "text/plain": [
       "[<li class=\"tVe95H\">Fast Performance (Upto 30% Faster than HDD Storage)</li>,\n",
       " <li class=\"tVe95H\">Upto 75% Reduction in System Boot Up Time</li>,\n",
       " <li class=\"tVe95H\">More Energy Efficient</li>,\n",
       " <li class=\"tVe95H\">No Vibrations or Noise</li>,\n",
       " <li class=\"tVe95H\">AMD APU Dual Core A6 Processor</li>,\n",
       " <li class=\"tVe95H\">4 GB DDR4 RAM</li>,\n",
       " <li class=\"tVe95H\">64 bit Windows 10 Operating System</li>,\n",
       " <li class=\"tVe95H\">256 GB SSD</li>,\n",
       " <li class=\"tVe95H\">35.56 cm (14 inch) Display</li>,\n",
       " <li class=\"tVe95H\">1 Year On-site Warranty</li>]"
      ]
     },
     "execution_count": 66,
     "metadata": {},
     "output_type": "execute_result"
    }
   ],
   "source": [
    "specs"
   ]
  },
  {
   "cell_type": "code",
   "execution_count": 10,
   "metadata": {},
   "outputs": [
    {
     "data": {
      "text/plain": [
       "True"
      ]
     },
     "execution_count": 10,
     "metadata": {},
     "output_type": "execute_result"
    }
   ],
   "source": [
    "'SSD' in specs[7].text and specs[7].text.endswith('SSD')"
   ]
  },
  {
   "cell_type": "code",
   "execution_count": null,
   "metadata": {},
   "outputs": [],
   "source": []
  },
  {
   "cell_type": "code",
   "execution_count": null,
   "metadata": {},
   "outputs": [],
   "source": []
  },
  {
   "cell_type": "code",
   "execution_count": null,
   "metadata": {},
   "outputs": [],
   "source": []
  },
  {
   "cell_type": "code",
   "execution_count": null,
   "metadata": {},
   "outputs": [],
   "source": []
  },
  {
   "cell_type": "code",
   "execution_count": null,
   "metadata": {},
   "outputs": [],
   "source": []
  },
  {
   "cell_type": "code",
   "execution_count": null,
   "metadata": {},
   "outputs": [],
   "source": []
  },
  {
   "cell_type": "code",
   "execution_count": null,
   "metadata": {},
   "outputs": [],
   "source": []
  },
  {
   "cell_type": "code",
   "execution_count": null,
   "metadata": {},
   "outputs": [],
   "source": []
  },
  {
   "cell_type": "code",
   "execution_count": null,
   "metadata": {},
   "outputs": [],
   "source": []
  },
  {
   "cell_type": "code",
   "execution_count": 56,
   "metadata": {},
   "outputs": [],
   "source": [
    "proc=None\n",
    "disp=None\n",
    "bat=None\n",
    "ram=None\n",
    "HardDisk=None\n",
    "SSD=None\n",
    "HDD=None\n",
    "OS=None\n",
    "for s in specs:\n",
    "    spec=s.text\n",
    "    if 'SSD' in spec and spec.endswith('SSD'):\n",
    "        SSD=spec\n",
    "    elif 'HDD' in spec and spec.endswith('HDD'):\n",
    "        HDD=spec\n",
    "    elif 'Operating System' in spec:\n",
    "        OS=spec.split('Operating System')[0].strip()        \n",
    "    elif 'RAM' in spec:\n",
    "        ram=i.split('RAM')[0].strip()\n",
    "    elif 'Display' in spec:\n",
    "        disp=spec.split('Display')[0].split('(')[1].split('inch)')[0].strip()\n",
    "    elif 'Battery' in spec:\n",
    "        bat=spec\n",
    "    elif 'Processor' in spec:\n",
    "        proc=''.join(spec.split('Processor')).strip()"
   ]
  },
  {
   "cell_type": "code",
   "execution_count": 57,
   "metadata": {},
   "outputs": [
    {
     "data": {
      "text/plain": [
       "'256 GB SSD'"
      ]
     },
     "execution_count": 57,
     "metadata": {},
     "output_type": "execute_result"
    }
   ],
   "source": [
    "SSD"
   ]
  },
  {
   "cell_type": "code",
   "execution_count": 58,
   "metadata": {},
   "outputs": [],
   "source": [
    "HDD"
   ]
  },
  {
   "cell_type": "code",
   "execution_count": 59,
   "metadata": {},
   "outputs": [
    {
     "data": {
      "text/plain": [
       "'4 GB DDR4'"
      ]
     },
     "execution_count": 59,
     "metadata": {},
     "output_type": "execute_result"
    }
   ],
   "source": [
    "ram"
   ]
  },
  {
   "cell_type": "code",
   "execution_count": 60,
   "metadata": {},
   "outputs": [
    {
     "data": {
      "text/plain": [
       "'64 bit Windows 10'"
      ]
     },
     "execution_count": 60,
     "metadata": {},
     "output_type": "execute_result"
    }
   ],
   "source": [
    "OS"
   ]
  },
  {
   "cell_type": "code",
   "execution_count": 61,
   "metadata": {},
   "outputs": [
    {
     "data": {
      "text/plain": [
       "'14'"
      ]
     },
     "execution_count": 61,
     "metadata": {},
     "output_type": "execute_result"
    }
   ],
   "source": [
    "disp"
   ]
  },
  {
   "cell_type": "code",
   "execution_count": 62,
   "metadata": {},
   "outputs": [],
   "source": [
    "bat"
   ]
  },
  {
   "cell_type": "code",
   "execution_count": 63,
   "metadata": {},
   "outputs": [
    {
     "data": {
      "text/plain": [
       "'AMD APU Dual Core A6'"
      ]
     },
     "execution_count": 63,
     "metadata": {},
     "output_type": "execute_result"
    }
   ],
   "source": [
    "proc"
   ]
  },
  {
   "cell_type": "code",
   "execution_count": null,
   "metadata": {},
   "outputs": [],
   "source": []
  },
  {
   "cell_type": "code",
   "execution_count": null,
   "metadata": {},
   "outputs": [],
   "source": []
  }
 ],
 "metadata": {
  "kernelspec": {
   "display_name": "Python 3",
   "language": "python",
   "name": "python3"
  },
  "language_info": {
   "codemirror_mode": {
    "name": "ipython",
    "version": 3
   },
   "file_extension": ".py",
   "mimetype": "text/x-python",
   "name": "python",
   "nbconvert_exporter": "python",
   "pygments_lexer": "ipython3",
   "version": "3.7.2"
  }
 },
 "nbformat": 4,
 "nbformat_minor": 2
}
