{
 "cells": [
  {
   "cell_type": "code",
   "execution_count": null,
   "metadata": {},
   "outputs": [],
   "source": [
    "from bs4 import BeautifulSoup as soup\n",
    "from urllib.request import urlopen as uReq"
   ]
  },
  {
   "cell_type": "code",
   "execution_count": null,
   "metadata": {},
   "outputs": [],
   "source": [
    "filename=\"laptop.csv\"\n",
    "f= open(filename,\"w\")\n",
    "headers=\"Brand,Name,Display,RAM,DDR,HardDisk,Processor,Battery,OS,Pricing,Rating\\n\"\n",
    "f.write(headers)"
   ]
  },
  {
   "cell_type": "code",
   "execution_count": null,
   "metadata": {},
   "outputs": [],
   "source": [
    "for i in range(20):\n",
    "    j=i+1\n",
    "    uClient =uReq('https://www.flipkart.com/search?q=laptop&sid=6bo%2Cb5g&as=on&as-show=on&otracker=AS_QueryStore_OrganicAutoSuggest_0_3_na_na_pr&otracker1=AS_QueryStore_OrganicAutoSuggest_0_3_na_na_pr&as-pos=0&as-type=RECENT&suggestionId=laptop&requestId=3af7f76b-cfdc-490d-a3cb-3dec368ee49d&as-backfill=on'+'&page='+str(i+1))\n",
    "    try:\n",
    "        page_html=uClient.read()\n",
    "    except httplib.IncompleteRead as e:\n",
    "        page_html = e.partial\n",
    "        \n",
    "    uClient.close()\n",
    "    page_soup=soup(page_html,\"html.parser\")\n",
    "    containers=page_soup.findAll(\"div\",{\"class\": \"_3wU53n\"})#t-0M7P _2doH3V  col_2-gKeQ\n",
    "    containers_prices=page_soup.findAll(\"div\",{\"class\": \"_1vC4OE _2rQ-NK\"}) # price\n",
    "    containers_ratings=page_soup.findAll(\"div\",{\"class\": \"hGSR34\"}) # price\n",
    "    ul_specs=page_soup.findAll(\"ul\",{\"class\":\"vFw0gD\"})\n",
    "    for (c, p, r, s) in zip(containers, containers_prices, containers_ratings, ul_specs):\n",
    "        brandName=c.text.split(' ')[0]\n",
    "        product_name =c.text\n",
    "        product_price =p.text.strip()\n",
    "        product_rate =r.text.strip()\n",
    "        trim_price = ''.join(product_price.split(','))\n",
    "        rm_rupee = trim_price.split(\"₹\")\n",
    "        add_rs_price=rm_rupee[1]\n",
    "        proc=\"\"\n",
    "        disp=\"\"\n",
    "        ram=\"\"\n",
    "        ddrsdr=\"\"\n",
    "        HardDisk=\"\"\n",
    "        OS=\"\"\n",
    "        for config in s.findAll(\"li\",{\"class\":\"tVe95H\"}):\n",
    "            conf=config.text\n",
    "            if ('SSD' in conf and conf.endswith('SSD')) or ('HDD' in conf and conf.endswith('HDD')) :\n",
    "                HardDisk=conf\n",
    "            elif 'Operating System' in conf:\n",
    "                OS=conf.split('Operating System')[0].strip().replace(\",\", \" \")\n",
    "            elif 'RAM' in conf:\n",
    "                ram=conf.split('RAM')[0].strip()\n",
    "                if 'DDR' in conf.split('RAM')[0].strip():\n",
    "                    ddrsdr= 'DDR'\n",
    "                elif 'SDR' in conf.split('RAM')[0].strip():\n",
    "                    ddrsdr= 'SDR'\n",
    "            elif 'Display' in conf:\n",
    "                try:\n",
    "                    disp=conf.split('Display')[0].split('(')[1].split('inch)')[0].strip().replace(\",\", \" \")\n",
    "                except Exception as e:\n",
    "                    disp=conf\n",
    "            elif 'Processor' in conf:\n",
    "                proc=''.join(conf.split('Processor')).strip()\n",
    "        f.write(brandName+\",\"+product_name.replace(\",\", \"|\")+\",\"+disp+\",\"+ram+\",\"+ddrsdr+\",\"+HardDisk+\",\"+proc+\",\"+OS+\",\"+add_rs_price +\",\" + product_rate[0:4] +\"\\n\")\n",
    "f.close()"
   ]
  },
  {
   "cell_type": "code",
   "execution_count": null,
   "metadata": {},
   "outputs": [],
   "source": []
  }
 ],
 "metadata": {
  "kernelspec": {
   "display_name": "Python 3",
   "language": "python",
   "name": "python3"
  },
  "language_info": {
   "codemirror_mode": {
    "name": "ipython",
    "version": 3
   },
   "file_extension": ".py",
   "mimetype": "text/x-python",
   "name": "python",
   "nbconvert_exporter": "python",
   "pygments_lexer": "ipython3",
   "version": "3.7.2"
  }
 },
 "nbformat": 4,
 "nbformat_minor": 2
}
